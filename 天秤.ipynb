{
  "nbformat": 4,
  "nbformat_minor": 0,
  "metadata": {
    "colab": {
      "name": "天秤",
      "provenance": [],
      "authorship_tag": "ABX9TyOts27ksZmOtBNJ2k6WNTA5",
      "include_colab_link": true
    },
    "kernelspec": {
      "name": "python3",
      "display_name": "Python 3"
    },
    "language_info": {
      "name": "python"
    }
  },
  "cells": [
    {
      "cell_type": "markdown",
      "metadata": {
        "id": "view-in-github",
        "colab_type": "text"
      },
      "source": [
        "<a href=\"https://colab.research.google.com/github/mashutan/2102fs-doc/blob/master/%E5%A4%A9%E7%A7%A4.ipynb\" target=\"_parent\"><img src=\"https://colab.research.google.com/assets/colab-badge.svg\" alt=\"Open In Colab\"/></a>"
      ]
    },
    {
      "cell_type": "code",
      "metadata": {
        "colab": {
          "base_uri": "https://localhost:8080/"
        },
        "id": "UIYChzito8VC",
        "outputId": "8c20f9f1-4da3-470b-ca32-35249ecf1f47"
      },
      "source": [
        "import numpy as np\n",
        "import pandas as pd\n",
        " \n",
        "dataset = pd.read_table('train.tsv')\n",
        "testset = pd.read_table('test.tsv')\n",
        "from sklearn.svm import SVC\n",
        "\n",
        "\n",
        "features_train = dataset[['class','left_weight','left_distance','right_weight','right_distance']]\n",
        "labels_train   = dataset['class']\n",
        "\n",
        "model = SVC()\n",
        "model.fit(features_train, labels_train)\n",
        "\n",
        "features_test = dataset[['class','left_weight','left_distance','right_weight','right_distance']]\n",
        "labels_predicted = model.predict(features_test)\n",
        "\n",
        "print(labels_predicted) # 0 := 左, 1 := 平衡, 2 := 右 として、予測結果の配列が得られることを確認する\n",
        "output = pd.DataFrame(zip(dataset['class'], model.predict(testset)))\n",
        "output.to_csv('submit.csv', header=False, index=False)"
      ],
      "execution_count": 11,
      "outputs": [
        {
          "output_type": "stream",
          "text": [
            "[2 0 0 2 0 0 0 2 0 0 2 0 0 2 2 2 2 1 0 0 2 0 0 2 0 2 2 2 2 0 2 2 2 2 0 0 2\n",
            " 0 2 2 0 2 2 2 2 0 0 1 0 0 0 2 0 2 2 2 2 2 0 2 2 0 2 2 1 2 0 1 2 2 0 2 0 0\n",
            " 2 0 2 0 2 2 0 0 0 0 2 2 0 0 2 2 2 2 0 2 0 0 2 2 2 0 2 1 0 2 2 2 0 1 0 0 1\n",
            " 0 2 2 0 0 2 2 0 2 0 0 2 0 1 2 2 0 0 1 2 2 0 1 2 2 2 2 2 2 0 2 0 0 0 0 0 0\n",
            " 2 0 0 0 0 0 2 0 0 2 2 2 2 1 2 0 1 1 0 2 0 1 0 1 1 0 0 0 2 0 2 2 2 2 0 2 2\n",
            " 2 0 0 1 1 0 1 1 0 0 0 2 2 0 2 2 0 2 0 2 2 0 0 0 0 2 0 2 2 0 2 2 2 0 2 0 2\n",
            " 2 2 2 2 0 0 1 0 2 0 2 0 0 0 0 0 2 0 0 0 0 0 1 1 2 2 0 0 0 0 0 2 2 2 0 0 0\n",
            " 0 2 2 0 2 2 2 0 0 1 2 2 2 2 2 1 2 2 0 2 0 0 0 2 2 0 2 2 0 2 0 0 0 1 0 2 2\n",
            " 2 2 0 0 2 0 2 0 2 2 1 2 0 0 0 0]\n"
          ],
          "name": "stdout"
        }
      ]
    }
  ]
}